{
 "cells": [
  {
   "cell_type": "code",
   "execution_count": 12,
   "metadata": {},
   "outputs": [
    {
     "data": {
      "text/plain": [
       "{'max_depth': 3,\n",
       " 'learning_rate': 0.1,\n",
       " 'n_estimators': 100,\n",
       " 'silent': True,\n",
       " 'objective': 'binary:logistic',\n",
       " 'booster': 'gbtree',\n",
       " 'gamma': 0,\n",
       " 'min_child_weight': 1,\n",
       " 'max_delta_step': 0,\n",
       " 'subsample': 1,\n",
       " 'colsample_bytree': 1,\n",
       " 'colsample_bylevel': 1,\n",
       " 'reg_alpha': 0,\n",
       " 'reg_lambda': 1,\n",
       " 'scale_pos_weight': 1,\n",
       " 'base_score': 0.5,\n",
       " 'missing': nan,\n",
       " 'kwargs': {},\n",
       " '_Booster': None,\n",
       " 'seed': 42,\n",
       " 'random_state': 0,\n",
       " 'nthread': 1,\n",
       " 'n_jobs': 1,\n",
       " 'importance_type': 'gain'}"
      ]
     },
     "execution_count": 12,
     "metadata": {},
     "output_type": "execute_result"
    }
   ],
   "source": [
    "import xgboost as xgb\n",
    "\n",
    "clf = xgb.XGBClassifier(seed=42,nthread=1)\n",
    "clf.__dict__"
   ]
  },
  {
   "cell_type": "code",
   "execution_count": 2,
   "metadata": {},
   "outputs": [],
   "source": [
    "from sklearn.datasets import fetch_20newsgroups"
   ]
  },
  {
   "cell_type": "code",
   "execution_count": 6,
   "metadata": {},
   "outputs": [],
   "source": [
    "from sklearn.model_selection import train_test_split\n",
    "from sklearn.feature_extraction.text import TfidfVectorizer"
   ]
  },
  {
   "cell_type": "code",
   "execution_count": 10,
   "metadata": {},
   "outputs": [],
   "source": [
    "train = fetch_20newsgroups(subset='train', remove=('headers', 'footers', 'quotes'))\n",
    "test = fetch_20newsgroups(subset='test', remove=('headers', 'footers', 'quotes'))\n",
    "X, y = train.data, train.target\n",
    "X_test_docs, y_test = test.data, test.target\n",
    "X_train_docs, X_val_docs, y_train, y_val = train_test_split(X, y, test_size=0.2, random_state=42)\n"
   ]
  },
  {
   "cell_type": "code",
   "execution_count": 11,
   "metadata": {},
   "outputs": [],
   "source": [
    "tfidf = TfidfVectorizer(min_df =0.005, max_df=0.5).fit(X)\n",
    "X_train_tfidf = tfidf.transform(X_train_docs).tocsc()\n",
    "X_val_tfidf = tfidf.transform(X_val_docs).tocsc()\n",
    "X_test_tfidf = tfidf.transform(X_test_docs).tocsc()"
   ]
  },
  {
   "cell_type": "code",
   "execution_count": 15,
   "metadata": {},
   "outputs": [
    {
     "name": "stdout",
     "output_type": "stream",
     "text": [
      "[0]\tvalidation_0-merror:0.586786\tvalidation_1-merror:0.596111\n",
      "[11]\tvalidation_0-merror:0.426251\tvalidation_1-merror:0.467079\n",
      "[22]\tvalidation_0-merror:0.388576\tvalidation_1-merror:0.452939\n",
      "[33]\tvalidation_0-merror:0.355541\tvalidation_1-merror:0.436147\n",
      "[44]\tvalidation_0-merror:0.328803\tvalidation_1-merror:0.427751\n",
      "[55]\tvalidation_0-merror:0.308143\tvalidation_1-merror:0.420681\n",
      "[66]\tvalidation_0-merror:0.286709\tvalidation_1-merror:0.416703\n",
      "[77]\tvalidation_0-merror:0.268921\tvalidation_1-merror:0.408749\n",
      "[88]\tvalidation_0-merror:0.255773\tvalidation_1-merror:0.408749\n",
      "[99]\tvalidation_0-merror:0.241189\tvalidation_1-merror:0.405656\n"
     ]
    }
   ],
   "source": [
    "clf = clf.fit(X_train_tfidf, y_train, eval_set = [(X_train_tfidf, y_train), (X_val_tfidf, y_val)], verbose=11)\n"
   ]
  },
  {
   "cell_type": "code",
   "execution_count": 16,
   "metadata": {},
   "outputs": [],
   "source": [
    "from sklearn.metrics import accuracy_score"
   ]
  },
  {
   "cell_type": "code",
   "execution_count": 18,
   "metadata": {},
   "outputs": [
    {
     "name": "stdout",
     "output_type": "stream",
     "text": [
      "Test error: 0.46534784917684546\n"
     ]
    }
   ],
   "source": [
    "y_pred = clf.predict(X_test_tfidf)\n",
    "y_preds_probs = clf.predict_proba(X_test_tfidf)\n",
    "print(f'Test error: {1-accuracy_score(y_test, y_pred)}')"
   ]
  },
  {
   "cell_type": "code",
   "execution_count": 21,
   "metadata": {},
   "outputs": [
    {
     "name": "stdout",
     "output_type": "stream",
     "text": [
      "[0]\tvalidation_0-merror:0.586786\tvalidation_1-merror:0.596111\n",
      "[10]\tvalidation_0-merror:0.43288\tvalidation_1-merror:0.471498\n",
      "[19]\tvalidation_0-merror:0.396199\tvalidation_1-merror:0.454264\n",
      "[0]\tvalidation_0-merror:0.473981\tvalidation_1-merror:0.529828\n",
      "[10]\tvalidation_0-merror:0.343167\tvalidation_1-merror:0.457357\n",
      "[19]\tvalidation_0-merror:0.293338\tvalidation_1-merror:0.441008\n",
      "[0]\tvalidation_0-merror:0.416087\tvalidation_1-merror:0.507733\n",
      "[10]\tvalidation_0-merror:0.27787\tvalidation_1-merror:0.453822\n",
      "[19]\tvalidation_0-merror:0.221302\tvalidation_1-merror:0.438798\n",
      "[0]\tvalidation_0-merror:0.383052\tvalidation_1-merror:0.505966\n",
      "[10]\tvalidation_0-merror:0.233344\tvalidation_1-merror:0.447636\n",
      "[19]\tvalidation_0-merror:0.167053\tvalidation_1-merror:0.435705\n",
      "[0]\tvalidation_0-merror:0.357419\tvalidation_1-merror:0.505524\n",
      "[10]\tvalidation_0-merror:0.193459\tvalidation_1-merror:0.446752\n",
      "[19]\tvalidation_0-merror:0.133687\tvalidation_1-merror:0.436147\n",
      "[0]\tvalidation_0-merror:0.296873\tvalidation_1-merror:0.505966\n",
      "[10]\tvalidation_0-merror:0.104629\tvalidation_1-merror:0.450729\n",
      "[19]\tvalidation_0-merror:0.063308\tvalidation_1-merror:0.437914\n"
     ]
    }
   ],
   "source": [
    "results=[]\n",
    "for max_depth in [3,6,9,12,15,30]:\n",
    "    clf = xgb.XGBClassifier(max_depth =max_depth, n_estimators=20)\n",
    "    clf = clf.fit(X_train_tfidf, y_train, eval_set = [(X_train_tfidf, y_train), (X_val_tfidf, y_val)], verbose=10)\n",
    "    results.append(\n",
    "        {\n",
    "            'max_depth': max_depth,\n",
    "            'train_error': accuracy_score(y_train, clf.predict(X_train_tfidf)),\n",
    "            'validation_error': 1-accuracy_score(y_val, clf.predict(X_val_tfidf)),\n",
    "            'test_error': 1-accuracy_score(y_test, clf.predict(X_test_tfidf))\n",
    "        }\n",
    "    )"
   ]
  },
  {
   "cell_type": "code",
   "execution_count": 23,
   "metadata": {},
   "outputs": [],
   "source": [
    "import pandas as pd"
   ]
  },
  {
   "cell_type": "code",
   "execution_count": 24,
   "metadata": {},
   "outputs": [],
   "source": [
    "df_max_depth = pd.DataFrame(results).set_index('max_depth')"
   ]
  },
  {
   "cell_type": "code",
   "execution_count": 26,
   "metadata": {},
   "outputs": [],
   "source": [
    "%matplotlib inline"
   ]
  },
  {
   "cell_type": "code",
   "execution_count": 27,
   "metadata": {},
   "outputs": [
    {
     "data": {
      "text/plain": [
       "<matplotlib.axes._subplots.AxesSubplot at 0x1a240c7a58>"
      ]
     },
     "execution_count": 27,
     "metadata": {},
     "output_type": "execute_result"
    },
    {
     "data": {
      "image/png": "[encoded data removed]",
      "text/plain": [
       "<Figure size 864x360 with 1 Axes>"
      ]
     },
     "metadata": {
      "needs_background": "light"
     },
     "output_type": "display_data"
    }
   ],
   "source": [
    "df_max_depth.plot(ylim=(0, 0.7), figsize=(12,5))"
   ]
  },
  {
   "cell_type": "code",
   "execution_count": 29,
   "metadata": {},
   "outputs": [],
   "source": [
    "import numpy as np"
   ]
  },
  {
   "cell_type": "code",
   "execution_count": 31,
   "metadata": {},
   "outputs": [],
   "source": [
    "results=[]\n",
    "for subsample in np.arange(0.2, 1.01, 0.2):\n",
    "    clf = xgb.XGBClassifier(max_depth =max_depth, n_estimators=20, learning_rate=0.1, subsample=subsample)\n",
    "    clf = clf.fit(X_train_tfidf, y_train, eval_set = [(X_train_tfidf, y_train), (X_val_tfidf, y_val)], verbose=False)\n",
    "    results.append(\n",
    "        {\n",
    "            'max_depth': max_depth,\n",
    "            'train_error': accuracy_score(y_train, clf.predict(X_train_tfidf)),\n",
    "            'validation_error': 1-accuracy_score(y_val, clf.predict(X_val_tfidf)),\n",
    "            'test_error': 1-accuracy_score(y_test, clf.predict(X_test_tfidf))\n",
    "        }\n",
    "    )"
   ]
  },
  {
   "cell_type": "code",
   "execution_count": null,
   "metadata": {},
   "outputs": [],
   "source": []
  },
  {
   "cell_type": "code",
   "execution_count": null,
   "metadata": {},
   "outputs": [],
   "source": []
  }
 ],
 "metadata": {
  "kernelspec": {
   "display_name": "Python 3",
   "language": "python",
   "name": "python3"
  },
  "language_info": {
   "codemirror_mode": {
    "name": "ipython",
    "version": 3
   },
   "file_extension": ".py",
   "mimetype": "text/x-python",
   "name": "python",
   "nbconvert_exporter": "python",
   "pygments_lexer": "ipython3",
   "version": "3.7.1"
  }
 },
 "nbformat": 4,
 "nbformat_minor": 2
}
